{
 "cells": [
  {
   "cell_type": "markdown",
   "id": "4c5a78fc-4012-4c22-b8a4-2102c71ab1d3",
   "metadata": {},
   "source": [
    "# AQI During the California, Thomas Fire (2017-18)\n",
    "\n",
    "The Thomas Fire began late December in Ventura County and continued to affect both Santa Barbara and Ventura counties into the new year (2018). This analysis uses raster data to produce a map of the fire's perimeter. Additionally, a simple visualization was created to demonstrated the severity of the Thomas Fire's affect on air quality (AQI)."
   ]
  },
  {
   "cell_type": "markdown",
   "id": "c3da1bb7-9263-4fe4-b891-e526670b5f76",
   "metadata": {},
   "source": [
    "## About the Data\n",
    "\n",
    "### Raster Data\n",
    "This dataset, from the Landsat Collection 2 Level-2, contains red, green, near-infrared, and shortwave infrared layers. The data was originally collected by the Landsat 8 satellite, and was corrected for surface reflectance and simplified. The final simplified collection can be pulled from the USGS website, which also has more information on image capture and processing.\n",
    "\n",
    "### Fire Perimeter Data\n",
    "CAL Fire provides annual geographic data on fire perimeters. The fire started December 4th, 2017 and was contained by January 12th, 2018. Since the majority of fire growth was in 2017, this analysis will use only the 2017 data.\n",
    "\n",
    "### Air Quality Data\n",
    "The Air Quality Data can be pulled from the U.S. Environmental Protection Agency (EPA). This dataset provides air quality data from counties throughout the United States and can be filtered to examine Santa Barbara County during the duration of the Thomas Fire."
   ]
  },
  {
   "cell_type": "markdown",
   "id": "758b728e-e051-47dc-b546-f917731cc864",
   "metadata": {},
   "source": [
    "## Libraries and Functions\n",
    "Loading necessary libraries and functions:"
   ]
  },
  {
   "cell_type": "code",
   "execution_count": null,
   "id": "5942ffe4-dbea-4095-b144-ed3069526dca",
   "metadata": {},
   "outputs": [],
   "source": [
    "import os\n",
    "import numpy as np\n",
    "import pandas as pd\n",
    "import matplotlib.pyplot as plt\n",
    "import matplotlib.patches as mpatches \n",
    "\n",
    "import xarray as xr\n",
    "import rioxarray as rioxr\n",
    "import geopandas as gpd"
   ]
  },
  {
   "cell_type": "markdown",
   "id": "e45e09fd-3de2-458e-8f4c-c68f834d963c",
   "metadata": {},
   "source": [
    "## Loading Data\n",
    "The Landsat raster data and fire perimeter data are stored in a folder and accessed directly. The AQI data can be accessed using the link.\n",
    "\n",
    "Loading data for analysis:"
   ]
  },
  {
   "cell_type": "code",
   "execution_count": null,
   "id": "a1cb228f-1ebc-46d0-bd8e-ee30128013c7",
   "metadata": {},
   "outputs": [],
   "source": [
    "# raster data\n",
    "landsat_raw = rioxr.open_rasterio(os.path.join(os.getcwd(),'data','landsat8-2018-01-26-sb-simplified.nc'))\n",
    "\n",
    "# ca fire perimeter data\n",
    "fire_perimeter = gpd.read_file(os.path.join(os.getcwd(), 'data', 'ca_fire_perimeters_2017',\n",
    "                                           'California_Fire_Perimeters_2017.shp'))\n",
    "#import 2017 and 2018 aqi data \n",
    "aqi_18 = pd.read_csv('https://aqs.epa.gov/aqsweb/airdata/daily_aqi_by_county_2018.zip')\n",
    "aqi_17 = pd.read_csv('https://aqs.epa.gov/aqsweb/airdata/daily_aqi_by_county_2017.zip')"
   ]
  },
  {
   "cell_type": "markdown",
   "id": "3f5f62b5-e2ac-41c6-989e-dd5312a842da",
   "metadata": {},
   "source": [
    "## Data Cleaning for Visualization\n",
    "### Raster Data\n",
    "The raster data contains additional bands that are not needed for this analysis, which will primarily focus on the short-wave infrared (swir22), near infrared (nir08), and red bands. Removing the bands and coordinates which are not needed will improve processing in the following steps. "
   ]
  },
  {
   "cell_type": "code",
   "execution_count": null,
   "id": "22ce6b08-9ce9-4ce7-a4b4-08558073dab7",
   "metadata": {},
   "outputs": [],
   "source": [
    "# remove extra dims and coords\n",
    "landsat = landsat_raw.squeeze().drop('band')"
   ]
  },
  {
   "cell_type": "markdown",
   "id": "6eecbcf4-5482-4590-8683-7c8c528bcbed",
   "metadata": {},
   "source": [
    "### Fire Perimeter Data\n",
    "As mentioned in the, \"About Data\" section, the fire perimeter data is for the entire state of California. The data was filtered to the fire of interest, and the coordinate reference system (CRS) was updated for mapping purposes."
   ]
  },
  {
   "cell_type": "code",
   "execution_count": null,
   "id": "56335ce8-ec6f-4b64-bc16-9b5bd07681c6",
   "metadata": {},
   "outputs": [],
   "source": [
    "# lowercase col names\n",
    "fire_perimeter.columns = fire_perimeter.columns.str.lower()\n",
    "\n",
    "# update CRS to match landsat data\n",
    "fire_perimeter = fire_perimeter.to_crs(landsat.rio.crs)\n",
    "\n",
    "# filter to fire of interest\n",
    "thomas = fire_perimeter[fire_perimeter['fire_name']=='THOMAS']"
   ]
  },
  {
   "cell_type": "markdown",
   "id": "41686a44-15f1-42c7-b804-208b7139e990",
   "metadata": {},
   "source": [
    "## Mapping the Fire Perimeter\n",
    "The cleaned and filtered data can be used to produce an aerial map showing the extent of the Thomas Fire's perimeter:"
   ]
  },
  {
   "cell_type": "code",
   "execution_count": null,
   "id": "0adb6532-b28c-4d7a-b5b7-d8c354c3e691",
   "metadata": {},
   "outputs": [],
   "source": [
    "fig, ax = plt.subplots()\n",
    "ax.axis('off') #remove axes\n",
    "ax.set_title('Santa Barbara County, Thomas Fire (2017-18)') # update title\n",
    "\n",
    "#--------------------------\n",
    "thomas.plot(ax=ax, color = 'None', edgecolor = 'red', legend=True) #plot thomas fire\n",
    "thomas_patch = mpatches.Patch(color = 'red', label = 'Fire Perimeter') #legend parameters\n",
    "\n",
    "#--------------------------\n",
    "landsat[['swir22','nir08','red']].to_array().plot.imshow(robust=True) #plot SB county \n",
    "\n",
    "#--------------------------\n",
    "_ = ax.legend(handles=[thomas_patch]) #add legend, removing unwanted output"
   ]
  },
  {
   "cell_type": "code",
   "execution_count": null,
   "id": "c7b923a4-6646-4c06-980b-226e1b67e1b2",
   "metadata": {},
   "outputs": [],
   "source": [
    "### ===== FALSE COLOR =====\n",
    "\n",
    "# ------------ Mapping Thomas Fire ------------------\n"
   ]
  },
  {
   "cell_type": "code",
   "execution_count": null,
   "id": "db841974-6716-4469-8947-40b7551da5fc",
   "metadata": {},
   "outputs": [],
   "source": [
    "### ===== THOMAS FIRE AQI =====\n",
    "\n",
    "# combine 2017 and 2018 into a single df using concatenation\n",
    "aqi = pd.concat([aqi_17, aqi_18])\n",
    "\n",
    "#clean the column names, removing spaces and turning all strings to lowercase\n",
    "aqi.columns = aqi.columns.str.lower().str.replace(' ','_') #code provided\n",
    "\n",
    "# create subset of SB County w/desired columns\n",
    "aqi_sb = aqi.loc[aqi['county_name']=='Santa Barbara', #row-selection\n",
    "       ['date','aqi','category','defining_parameter', 'defining_site','number_of_sites_reporting']] #column-selection\n",
    "\n",
    "# change date column to object type datatime\n",
    "aqi_sb.date = pd.to_datetime(aqi_sb.date)\n",
    "\n",
    "# set date column as the index\n",
    "aqi_sb = aqi_sb.set_index('date')\n",
    "\n",
    "# add new column w/5-day rolling avg\n",
    "aqi_sb['five_day_average'] = aqi_sb.aqi.rolling('5D').mean()\n",
    "\n",
    "# Plot both aqi and the 5-day aqi average\n",
    "aqi_sb.aqi.plot(color = '#1177A0', legend = True)  #change aqi line color, add legend\n",
    "aqi_sb.five_day_average.plot(color = '#A01177', #plot 5-day average, change line color\n",
    "                            title = 'Santa Barbara Air Quality 2017-18', #add title\n",
    "                            legend = True, # add 5-day average legend\n",
    "                             xlabel = \"Date\", #update x-axis label\n",
    "                             ylabel = \"AQI\") #update y-axis label"
   ]
  }
 ],
 "metadata": {
  "kernelspec": {
   "display_name": "Anaconda 3 (Base)",
   "language": "python",
   "name": "base"
  },
  "language_info": {
   "codemirror_mode": {
    "name": "ipython",
    "version": 3
   },
   "file_extension": ".py",
   "mimetype": "text/x-python",
   "name": "python",
   "nbconvert_exporter": "python",
   "pygments_lexer": "ipython3",
   "version": "3.9.13"
  }
 },
 "nbformat": 4,
 "nbformat_minor": 5
}
